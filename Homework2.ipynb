{
  "nbformat": 4,
  "nbformat_minor": 0,
  "metadata": {
    "colab": {
      "provenance": []
    },
    "kernelspec": {
      "name": "python3",
      "display_name": "Python 3"
    },
    "language_info": {
      "name": "python"
    }
  },
  "cells": [
    {
      "cell_type": "code",
      "execution_count": 1,
      "metadata": {
        "colab": {
          "base_uri": "https://localhost:8080/"
        },
        "id": "FrNb38ytb2NU",
        "outputId": "6854734b-0b40-4ee7-9a06-cccbeed02ddd"
      },
      "outputs": [
        {
          "output_type": "stream",
          "name": "stdout",
          "text": [
            "Columns: Index(['Class', 'Sex', 'Age', 'Survived'], dtype='object')\n"
          ]
        },
        {
          "output_type": "stream",
          "name": "stderr",
          "text": [
            "/usr/local/lib/python3.12/dist-packages/jupyter_client/session.py:151: DeprecationWarning: datetime.datetime.utcnow() is deprecated and scheduled for removal in a future version. Use timezone-aware objects to represent datetimes in UTC: datetime.datetime.now(datetime.UTC).\n",
            "  return datetime.utcnow().replace(tzinfo=utc)\n",
            "/usr/local/lib/python3.12/dist-packages/jupyter_client/session.py:151: DeprecationWarning: datetime.datetime.utcnow() is deprecated and scheduled for removal in a future version. Use timezone-aware objects to represent datetimes in UTC: datetime.datetime.now(datetime.UTC).\n",
            "  return datetime.utcnow().replace(tzinfo=utc)\n"
          ]
        },
        {
          "output_type": "stream",
          "name": "stdout",
          "text": [
            "\n",
            "Frequent Itemsets:\n",
            "      support                                        itemsets\n",
            "0   0.786461                                      (Sex_Male)\n",
            "1   0.676965                                   (Survived_No)\n",
            "2   0.320763                                     (Class_3rd)\n",
            "3   0.213539                                    (Sex_Female)\n",
            "4   0.950477                                     (Age_Adult)\n",
            "5   0.147660                                     (Class_1st)\n",
            "6   0.129487                                     (Class_2nd)\n",
            "7   0.402090                                    (Class_Crew)\n",
            "8   0.323035                                  (Survived_Yes)\n",
            "9   0.757383                           (Sex_Male, Age_Adult)\n",
            "10  0.619718                         (Sex_Male, Survived_No)\n",
            "11  0.653339                        (Age_Adult, Survived_No)\n",
            "12  0.603816              (Age_Adult, Sex_Male, Survived_No)\n",
            "13  0.239891                        (Class_3rd, Survived_No)\n",
            "14  0.231713                           (Sex_Male, Class_3rd)\n",
            "15  0.284871                          (Class_3rd, Age_Adult)\n",
            "16  0.216265             (Age_Adult, Class_3rd, Survived_No)\n",
            "17  0.191731              (Sex_Male, Class_3rd, Survived_No)\n",
            "18  0.209905                (Sex_Male, Class_3rd, Age_Adult)\n",
            "19  0.175829   (Age_Adult, Sex_Male, Class_3rd, Survived_No)\n",
            "20  0.193094                         (Sex_Female, Age_Adult)\n",
            "21  0.156293                      (Sex_Female, Survived_Yes)\n",
            "22  0.143571           (Sex_Female, Survived_Yes, Age_Adult)\n",
            "23  0.144934                          (Class_1st, Age_Adult)\n",
            "24  0.118582                          (Class_2nd, Age_Adult)\n",
            "25  0.402090                         (Class_Crew, Age_Adult)\n",
            "26  0.391640                          (Class_Crew, Sex_Male)\n",
            "27  0.305770                       (Class_Crew, Survived_No)\n",
            "28  0.391640               (Class_Crew, Sex_Male, Age_Adult)\n",
            "29  0.305770            (Class_Crew, Age_Adult, Survived_No)\n",
            "30  0.304407             (Class_Crew, Sex_Male, Survived_No)\n",
            "31  0.304407  (Class_Crew, Age_Adult, Sex_Male, Survived_No)\n",
            "32  0.166742                        (Survived_Yes, Sex_Male)\n",
            "33  0.297138                       (Survived_Yes, Age_Adult)\n",
            "34  0.153567             (Survived_Yes, Sex_Male, Age_Adult)\n",
            "\n",
            "Association Rules:\n",
            "                           antecedents                         consequents  \\\n",
            "19   (Class_3rd, Sex_Male, Age_Adult)                       (Survived_No)   \n",
            "15              (Class_3rd, Sex_Male)                       (Survived_No)   \n",
            "5               (Sex_Male, Age_Adult)                       (Survived_No)   \n",
            "2                          (Sex_Male)                       (Survived_No)   \n",
            "46             (Class_Crew, Sex_Male)            (Survived_No, Age_Adult)   \n",
            "42  (Class_Crew, Sex_Male, Age_Adult)                       (Survived_No)   \n",
            "39             (Class_Crew, Sex_Male)                       (Survived_No)   \n",
            "8                          (Sex_Male)            (Survived_No, Age_Adult)   \n",
            "36            (Class_Crew, Age_Adult)                       (Survived_No)   \n",
            "32                       (Class_Crew)                       (Survived_No)   \n",
            "38                       (Class_Crew)            (Survived_No, Age_Adult)   \n",
            "13             (Class_3rd, Age_Adult)                       (Survived_No)   \n",
            "22              (Class_3rd, Sex_Male)            (Survived_No, Age_Adult)   \n",
            "45            (Class_Crew, Age_Adult)             (Sex_Male, Survived_No)   \n",
            "41                       (Class_Crew)             (Sex_Male, Survived_No)   \n",
            "48                       (Class_Crew)  (Survived_No, Sex_Male, Age_Adult)   \n",
            "10                        (Class_3rd)                       (Survived_No)   \n",
            "27            (Sex_Female, Age_Adult)                      (Survived_Yes)   \n",
            "25                       (Sex_Female)                      (Survived_Yes)   \n",
            "\n",
            "     support  confidence      lift  \n",
            "19  0.175829    0.837662  1.237379  \n",
            "15  0.191731    0.827451  1.222295  \n",
            "5   0.603816    0.797241  1.177669  \n",
            "2   0.619718    0.787984  1.163995  \n",
            "46  0.304407    0.777262  1.189676  \n",
            "42  0.304407    0.777262  1.148157  \n",
            "39  0.304407    0.777262  1.148157  \n",
            "8   0.603816    0.767764  1.175139  \n",
            "36  0.305770    0.760452  1.123325  \n",
            "32  0.305770    0.760452  1.123325  \n",
            "38  0.305770    0.760452  1.163946  \n",
            "13  0.216265    0.759171  1.121433  \n",
            "22  0.175829    0.758824  1.161454  \n",
            "45  0.304407    0.757062  1.221623  \n",
            "41  0.304407    0.757062  1.221623  \n",
            "48  0.304407    0.757062  1.253795  \n",
            "10  0.239891    0.747875  1.104747  \n",
            "27  0.143571    0.743529  2.301699  \n",
            "25  0.156293    0.731915  2.265745  \n"
          ]
        },
        {
          "output_type": "stream",
          "name": "stderr",
          "text": [
            "/usr/local/lib/python3.12/dist-packages/jupyter_client/session.py:151: DeprecationWarning: datetime.datetime.utcnow() is deprecated and scheduled for removal in a future version. Use timezone-aware objects to represent datetimes in UTC: datetime.datetime.now(datetime.UTC).\n",
            "  return datetime.utcnow().replace(tzinfo=utc)\n",
            "/usr/local/lib/python3.12/dist-packages/jupyter_client/session.py:151: DeprecationWarning: datetime.datetime.utcnow() is deprecated and scheduled for removal in a future version. Use timezone-aware objects to represent datetimes in UTC: datetime.datetime.now(datetime.UTC).\n",
            "  return datetime.utcnow().replace(tzinfo=utc)\n",
            "/usr/local/lib/python3.12/dist-packages/jupyter_client/session.py:151: DeprecationWarning: datetime.datetime.utcnow() is deprecated and scheduled for removal in a future version. Use timezone-aware objects to represent datetimes in UTC: datetime.datetime.now(datetime.UTC).\n",
            "  return datetime.utcnow().replace(tzinfo=utc)\n",
            "/usr/local/lib/python3.12/dist-packages/jupyter_client/session.py:151: DeprecationWarning: datetime.datetime.utcnow() is deprecated and scheduled for removal in a future version. Use timezone-aware objects to represent datetimes in UTC: datetime.datetime.now(datetime.UTC).\n",
            "  return datetime.utcnow().replace(tzinfo=utc)\n"
          ]
        }
      ],
      "source": [
        "import pandas as pd\n",
        "from mlxtend.frequent_patterns import fpgrowth, association_rules\n",
        "\n",
        "# Load Titanic dataset\n",
        "df = pd.read_csv(\"Titanic.csv\")\n",
        "\n",
        "# Preview columns\n",
        "print(\"Columns:\", df.columns)\n",
        "\n",
        "# Preprocess data: Convert categorical columns to string for one-hot encoding\n",
        "df = df.astype(str)\n",
        "\n",
        "# One-hot encode categorical variables\n",
        "df_encoded = pd.get_dummies(df)\n",
        "\n",
        "# FP-Growth: find frequent itemsets with support >= 0.1\n",
        "frequent_itemsets = fpgrowth(df_encoded, min_support=0.1, use_colnames=True)\n",
        "\n",
        "# Generate association rules with confidence >= 0.7\n",
        "rules = association_rules(frequent_itemsets, metric=\"confidence\", min_threshold=0.7)\n",
        "\n",
        "# Filter rules so that consequents are only \"Survived=Yes\" or \"Survived=No\"\n",
        "rules = rules[rules['consequents'].apply(\n",
        "    lambda x: any(c in str(x) for c in [\"Survived_Yes\", \"Survived_No\"])\n",
        ")]\n",
        "\n",
        "# Sort rules by confidence\n",
        "rules = rules.sort_values(by=\"confidence\", ascending=False)\n",
        "\n",
        "# Display results\n",
        "pd.set_option('display.max_rows', None)\n",
        "pd.set_option('display.max_colwidth', None)\n",
        "\n",
        "print(\"\\nFrequent Itemsets:\\n\", frequent_itemsets)\n",
        "print(\"\\nAssociation Rules:\\n\", rules[['antecedents', 'consequents', 'support', 'confidence', 'lift']])\n",
        "\n",
        "# Save results to CSV\n",
        "frequent_itemsets.to_csv(\"frequent_itemsets.csv\", index=False)\n",
        "rules.to_csv(\"association_rules.csv\", index=False)\n"
      ]
    }
  ]
}